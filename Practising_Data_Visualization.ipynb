{
 "cells": [
  {
   "cell_type": "markdown",
   "id": "19d27b64",
   "metadata": {},
   "source": [
    "# Data Visualization\n",
    "We will learn the basics of Matplotlib library for data visualizations. This section is also fully focused on learning more functions of NumPy library."
   ]
  },
  {
   "cell_type": "markdown",
   "id": "e5115b51",
   "metadata": {},
   "source": [
    "## Learning outline:\n",
    "<ul>\n",
    "    <li>NumPy routines for Ndarray creation</li>\n",
    "    <li>Matplotlib data visualization</li>\n",
    "</ul>"
   ]
  },
  {
   "cell_type": "markdown",
   "id": "4b9aba12",
   "metadata": {},
   "source": [
    "### 1. NumPy routines for Ndarray creation\n",
    "Let’s learn a few routines of NumPy for creation of arrays."
   ]
  },
  {
   "cell_type": "markdown",
   "id": "296ea865",
   "metadata": {},
   "source": [
    "#### a) np.empty()\n",
    "The routine np.empty() creates an empty array of given size. The elements of the array are random as the array is not initialized."
   ]
  },
  {
   "cell_type": "code",
   "execution_count": 1,
   "id": "3ffb7bb9",
   "metadata": {},
   "outputs": [
    {
     "name": "stdout",
     "output_type": "stream",
     "text": [
      "[[224 108  31]\n",
      " [202  12 127]\n",
      " [  0   0 224]]\n"
     ]
    }
   ],
   "source": [
    "import numpy as np\n",
    "x = np.empty([3,3],np.uint8)\n",
    "print(x)"
   ]
  },
  {
   "cell_type": "markdown",
   "id": "73644f0c",
   "metadata": {},
   "source": [
    "Output: an array with random numbers"
   ]
  },
  {
   "cell_type": "code",
   "execution_count": 4,
   "id": "a3f4229e",
   "metadata": {},
   "outputs": [
    {
     "name": "stdout",
     "output_type": "stream",
     "text": [
      "[[[164  11   0]\n",
      "  [  1   0   0]\n",
      "  [  0   0   0]]\n",
      "\n",
      " [[  0   0   0]\n",
      "  [  0   0   0]\n",
      "  [  0 116  34]]\n",
      "\n",
      " [[ 44  32  34]\n",
      "  [118 101 114]\n",
      "  [115 105 111]]]\n"
     ]
    }
   ],
   "source": [
    "# We can create multidimensional matrices as follows:\n",
    "xx = np.empty([3,3,3],np.uint8) # a (3,3,3) Ndarray shape specified\n",
    "print(xx)"
   ]
  },
  {
   "cell_type": "code",
   "execution_count": 3,
   "id": "6d1ed513",
   "metadata": {},
   "outputs": [
    {
     "data": {
      "text/plain": [
       "3"
      ]
     },
     "execution_count": 3,
     "metadata": {},
     "output_type": "execute_result"
    }
   ],
   "source": [
    "xx.ndim"
   ]
  },
  {
   "cell_type": "markdown",
   "id": "6bf6602e",
   "metadata": {},
   "source": [
    "#### b) np.eye()\n",
    "We can use the routine np.eye() to create a matrix of all zeros except the diagonal elements of all the zeros. The diagonal has all the ones."
   ]
  },
  {
   "cell_type": "code",
   "execution_count": 5,
   "id": "981baacc",
   "metadata": {},
   "outputs": [
    {
     "name": "stdout",
     "output_type": "stream",
     "text": [
      "[[1 0 0 0]\n",
      " [0 1 0 0]\n",
      " [0 0 1 0]\n",
      " [0 0 0 1]]\n"
     ]
    }
   ],
   "source": [
    "y = np.eye(4,dtype=np.uint8)\n",
    "print(y)"
   ]
  },
  {
   "cell_type": "code",
   "execution_count": 7,
   "id": "47932e47",
   "metadata": {},
   "outputs": [
    {
     "name": "stdout",
     "output_type": "stream",
     "text": [
      "[[0 1 0 0 0]\n",
      " [0 0 1 0 0]\n",
      " [0 0 0 1 0]\n",
      " [0 0 0 0 1]\n",
      " [0 0 0 0 0]]\n"
     ]
    }
   ],
   "source": [
    "# We can also set the position of the diagonal as follows:\n",
    "y = np.eye(5,dtype=np.uint8,k=1)\n",
    "print(y)"
   ]
  },
  {
   "cell_type": "code",
   "execution_count": 10,
   "id": "b114a0c4",
   "metadata": {},
   "outputs": [
    {
     "name": "stdout",
     "output_type": "stream",
     "text": [
      "[[0 0 0 0 0]\n",
      " [1 0 0 0 0]\n",
      " [0 1 0 0 0]\n",
      " [0 0 1 0 0]\n",
      " [0 0 0 1 0]]\n"
     ]
    }
   ],
   "source": [
    "#We can even have the negative value for the position of the diagonal with all ones as follows:\n",
    "yy = np.eye(5,dtype=np.uint8,k=-1)\n",
    "print(yy)"
   ]
  },
  {
   "cell_type": "code",
   "execution_count": 11,
   "id": "72ae25b9",
   "metadata": {},
   "outputs": [
    {
     "name": "stdout",
     "output_type": "stream",
     "text": [
      "[[0 0 0 0 0]\n",
      " [0 0 0 0 0]\n",
      " [1 0 0 0 0]\n",
      " [0 1 0 0 0]\n",
      " [0 0 1 0 0]]\n"
     ]
    }
   ],
   "source": [
    "#We can even have the negative value for the position of the diagonal with all ones as follows:\n",
    "yy = np.eye(5,dtype=np.uint8,k=-2)\n",
    "print(yy)"
   ]
  },
  {
   "cell_type": "markdown",
   "id": "2b491766",
   "metadata": {},
   "source": [
    "#### c) np.identity()\n",
    "The function np.identity() returns an identity matrix of the specified size. An <b>identity matrix</b> is a matrix where all the elements at the diagonal are 1 and the rest of the\n",
    "elements are 0. The following are a few examples of that:"
   ]
  },
  {
   "cell_type": "code",
   "execution_count": 12,
   "id": "a69b0002",
   "metadata": {},
   "outputs": [
    {
     "name": "stdout",
     "output_type": "stream",
     "text": [
      "[[1 0 0]\n",
      " [0 1 0]\n",
      " [0 0 1]]\n"
     ]
    }
   ],
   "source": [
    "x = np.identity(3,dtype=np.uint8)\n",
    "print(x)"
   ]
  },
  {
   "cell_type": "code",
   "execution_count": 13,
   "id": "58f4e890",
   "metadata": {},
   "outputs": [
    {
     "name": "stdout",
     "output_type": "stream",
     "text": [
      "[[1 0 0 0]\n",
      " [0 1 0 0]\n",
      " [0 0 1 0]\n",
      " [0 0 0 1]]\n"
     ]
    }
   ],
   "source": [
    "x = np.identity(4,dtype=np.uint8)\n",
    "print(x)"
   ]
  },
  {
   "cell_type": "markdown",
   "id": "895bf51a",
   "metadata": {},
   "source": [
    "#### d) np.ones()\n",
    "The routine np.ones() returns the matrix of the given size that has all the elements as ones. Run the following examples to see it in action:"
   ]
  },
  {
   "cell_type": "code",
   "execution_count": 14,
   "id": "fa2297d8",
   "metadata": {},
   "outputs": [
    {
     "name": "stdout",
     "output_type": "stream",
     "text": [
      "[[[1 1 1]\n",
      "  [1 1 1]\n",
      "  [1 1 1]]\n",
      "\n",
      " [[1 1 1]\n",
      "  [1 1 1]\n",
      "  [1 1 1]]\n",
      "\n",
      " [[1 1 1]\n",
      "  [1 1 1]\n",
      "  [1 1 1]]]\n"
     ]
    }
   ],
   "source": [
    "x = np.ones((3,3,3),dtype=np.int16)\n",
    "print(x)"
   ]
  },
  {
   "cell_type": "code",
   "execution_count": 15,
   "id": "b35af6de",
   "metadata": {},
   "outputs": [
    {
     "name": "stdout",
     "output_type": "stream",
     "text": [
      "[[[1]]]\n"
     ]
    }
   ],
   "source": [
    "x = np.ones((1,1,1),dtype=np.int16)\n",
    "print(x)"
   ]
  },
  {
   "cell_type": "code",
   "execution_count": 16,
   "id": "acb1f298",
   "metadata": {},
   "outputs": [
    {
     "data": {
      "text/plain": [
       "3"
      ]
     },
     "execution_count": 16,
     "metadata": {},
     "output_type": "execute_result"
    }
   ],
   "source": [
    "x.ndim"
   ]
  },
  {
   "cell_type": "code",
   "execution_count": 17,
   "id": "d11b3b4c",
   "metadata": {},
   "outputs": [
    {
     "data": {
      "text/plain": [
       "(1, 1, 1)"
      ]
     },
     "execution_count": 17,
     "metadata": {},
     "output_type": "execute_result"
    }
   ],
   "source": [
    "x.shape"
   ]
  },
  {
   "cell_type": "markdown",
   "id": "7fc45bfb",
   "metadata": {},
   "source": [
    "#### e) np.arange()\n",
    "It creates a Ndarray of evenly spaced values with the given interval. An argument for the stop value is compulsory. The start value and interval parameters have default arguments 0 and 1, respectively."
   ]
  },
  {
   "cell_type": "code",
   "execution_count": 18,
   "id": "d6f88c04",
   "metadata": {},
   "outputs": [
    {
     "data": {
      "text/plain": [
       "array([0, 1, 2, 3, 4, 5, 6, 7, 8, 9])"
      ]
     },
     "execution_count": 18,
     "metadata": {},
     "output_type": "execute_result"
    }
   ],
   "source": [
    "np.arange(10)"
   ]
  },
  {
   "cell_type": "markdown",
   "id": "fe9c5401",
   "metadata": {},
   "source": [
    "#### f) np.linspace()\n",
    "The routine linspace() returns a Ndarray of evenly spaced numbers over a specified interval. We must pass it the starting value, the end value, and the number of values."
   ]
  },
  {
   "cell_type": "code",
   "execution_count": 22,
   "id": "1272feb1",
   "metadata": {},
   "outputs": [
    {
     "data": {
      "text/plain": [
       "array([ 0.        ,  0.68965517,  1.37931034,  2.06896552,  2.75862069,\n",
       "        3.44827586,  4.13793103,  4.82758621,  5.51724138,  6.20689655,\n",
       "        6.89655172,  7.5862069 ,  8.27586207,  8.96551724,  9.65517241,\n",
       "       10.34482759, 11.03448276, 11.72413793, 12.4137931 , 13.10344828,\n",
       "       13.79310345, 14.48275862, 15.17241379, 15.86206897, 16.55172414,\n",
       "       17.24137931, 17.93103448, 18.62068966, 19.31034483, 20.        ])"
      ]
     },
     "execution_count": 22,
     "metadata": {},
     "output_type": "execute_result"
    }
   ],
   "source": [
    "np.linspace(0,20,30)"
   ]
  },
  {
   "cell_type": "markdown",
   "id": "427899d3",
   "metadata": {},
   "source": [
    "#### g) np.np.logspace()\n",
    "Similarly, we can create Ndarrays with logarithmic spacing."
   ]
  },
  {
   "cell_type": "code",
   "execution_count": 23,
   "id": "3e58adb9",
   "metadata": {},
   "outputs": [
    {
     "data": {
      "text/plain": [
       "array([  1.25892541,   2.04696827,   3.32829814,   5.41169527,\n",
       "         8.79922544,  14.30722989,  23.26305067,  37.82489906,\n",
       "        61.50195043, 100.        ])"
      ]
     },
     "execution_count": 23,
     "metadata": {},
     "output_type": "execute_result"
    }
   ],
   "source": [
    "np.logspace(0.1,2,10)"
   ]
  },
  {
   "cell_type": "markdown",
   "id": "5d5cce3c",
   "metadata": {},
   "source": [
    "#### h) np.geomspace()\n",
    "We can also create Ndarrays with the geometric spacing:"
   ]
  },
  {
   "cell_type": "code",
   "execution_count": 24,
   "id": "8a10cfdd",
   "metadata": {},
   "outputs": [
    {
     "data": {
      "text/plain": [
       "array([ 0.1       ,  0.18016482,  0.32459363,  0.58480355,  1.05361028,\n",
       "        1.89823509,  3.41995189,  6.16155028, 11.10094616, 20.        ])"
      ]
     },
     "execution_count": 24,
     "metadata": {},
     "output_type": "execute_result"
    }
   ],
   "source": [
    "np.geomspace(0.1,20,10)"
   ]
  },
  {
   "cell_type": "markdown",
   "id": "886836d5",
   "metadata": {},
   "source": [
    "### 2. Matplotlib Data Visualization\n",
    "Matplotlib is a data visualization library that is an integral part of the Scientific Python Ecosystem. Many other data visualization libraries are just wrappers on Matplotlib. We will be extensively using Matplotlib’s Pyplot module that provides MATLAB like interface."
   ]
  },
  {
   "cell_type": "code",
   "execution_count": 26,
   "id": "3e902b3d",
   "metadata": {},
   "outputs": [
    {
     "data": {
      "image/png": "[encoded data removed]",
      "text/plain": [
       "<Figure size 640x480 with 1 Axes>"
      ]
     },
     "metadata": {},
     "output_type": "display_data"
    }
   ],
   "source": [
    "# The following command is known as magic command that enables Jupyter Notebook to show Matplotlib visualizations:\n",
    "%matplotlib inline\n",
    "import matplotlib.pyplot as plt\n",
    "\n",
    "x = np.arange(10)\n",
    "y = x + 1\n",
    "plt.plot(x,y)\n",
    "plt.show()"
   ]
  },
  {
   "cell_type": "code",
   "execution_count": 30,
   "id": "e8ec135f",
   "metadata": {},
   "outputs": [
    {
     "name": "stderr",
     "output_type": "stream",
     "text": [
      "No artists with labels found to put in legend.  Note that artists whose label start with an underscore are ignored when legend() is called with no argument.\n"
     ]
    },
    {
     "data": {
      "image/png": "[encoded data removed]",
      "text/plain": [
       "<Figure size 640x480 with 1 Axes>"
      ]
     },
     "metadata": {},
     "output_type": "display_data"
    }
   ],
   "source": [
    "# We can also have multipleline plot\n",
    "x = np.arange(10)\n",
    "y1 = 1 - x\n",
    "plt.plot(x,y,x,y1)\n",
    "plt.xlabel(\"X - Values\")\n",
    "plt.ylabel(\"Y - Values\")\n",
    "plt.legend()\n",
    "plt.show()"
   ]
  },
  {
   "cell_type": "markdown",
   "id": "6109767c",
   "metadata": {},
   "source": [
    "The routine plt.plot() can visualize data as simple lines. We can also\n",
    "plot data of other forms with it. The limitation is that it must be single dimensional. Let’s\n",
    "draw a sine wave as follows:"
   ]
  },
  {
   "cell_type": "code",
   "execution_count": 32,
   "id": "33f15857",
   "metadata": {},
   "outputs": [
    {
     "data": {
      "image/png": "[encoded data removed]",
      "text/plain": [
       "<Figure size 640x480 with 1 Axes>"
      ]
     },
     "metadata": {},
     "output_type": "display_data"
    }
   ],
   "source": [
    "q = 3\n",
    "z = np.arange(0,np.pi*2,0.05)\n",
    "y = np.sin(q*z)\n",
    "plt.plot(z,y)\n",
    "plt.show()\n"
   ]
  },
  {
   "cell_type": "markdown",
   "id": "205e9179",
   "metadata": {},
   "source": [
    "We can also have other types of plots. Let’s visualize a bar plot."
   ]
  },
  {
   "cell_type": "code",
   "execution_count": 35,
   "id": "dde813f5",
   "metadata": {},
   "outputs": [
    {
     "data": {
      "image/png": "[encoded data removed]",
      "text/plain": [
       "<Figure size 640x480 with 1 Axes>"
      ]
     },
     "metadata": {},
     "output_type": "display_data"
    }
   ],
   "source": [
    "n = 5\n",
    "x = np.arange(n)\n",
    "y = np.random.rand(n)\n",
    "plt.bar(x,y)\n",
    "plt.show()"
   ]
  },
  {
   "cell_type": "code",
   "execution_count": 41,
   "id": "c0456f1f",
   "metadata": {},
   "outputs": [
    {
     "data": {
      "image/png": "[encoded data removed]",
      "text/plain": [
       "<Figure size 640x480 with 1 Axes>"
      ]
     },
     "metadata": {},
     "output_type": "display_data"
    }
   ],
   "source": [
    "# We can rewrite the same code in an object-oriented way\n",
    "fig,ax = plt.subplots()\n",
    "\n",
    "ax.bar(x,y)\n",
    "ax.set_title(\"Bar Graph\")\n",
    "ax.set_xlabel('X')\n",
    "ax.set_ylabel('Y')\n",
    "plt.show()"
   ]
  },
  {
   "cell_type": "markdown",
   "id": "60606eb6",
   "metadata": {},
   "source": [
    "As we can see, the code creates a figure and an axis that we can use to call\n",
    "visualization routines and to set the properties of the visualizations."
   ]
  },
  {
   "cell_type": "markdown",
   "id": "d90aad7b",
   "metadata": {},
   "source": [
    "#### Subplots"
   ]
  },
  {
   "cell_type": "code",
   "execution_count": null,
   "id": "89e0fa37",
   "metadata": {},
   "outputs": [],
   "source": []
  }
 ],
 "metadata": {
  "kernelspec": {
   "display_name": "Python 3 (ipykernel)",
   "language": "python",
   "name": "python3"
  },
  "language_info": {
   "codemirror_mode": {
    "name": "ipython",
    "version": 3
   },
   "file_extension": ".py",
   "mimetype": "text/x-python",
   "name": "python",
   "nbconvert_exporter": "python",
   "pygments_lexer": "ipython3",
   "version": "3.9.13"
  }
 },
 "nbformat": 4,
 "nbformat_minor": 5
}
