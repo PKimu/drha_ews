{
 "cells": [
  {
   "cell_type": "markdown",
   "id": "bd482727",
   "metadata": {},
   "source": [
    "# Introduction Numpy\n",
    "While the programming is not very difficult\n",
    "when it comes to NumPy and Python, the concepts are worth learning."
   ]
  },
  {
   "cell_type": "markdown",
   "id": "1ed3cb42",
   "metadata": {},
   "source": [
    "## Learning Outline\n",
    "<ul>\n",
    "    <li>Getting started with NumPy</li>\n",
    "    <li>Multidimensional Ndarrays</li>\n",
    "    <li>Indexing of Ndarrays</li>\n",
    "    <li>Ndarray properties</li>\n",
    "    <li>NumPy constants</li>\n",
    "</ul>"
   ]
  },
  {
   "cell_type": "markdown",
   "id": "67ccc888",
   "metadata": {},
   "source": [
    "### 1. Getting started with NumPy\n",
    "we are ready to start programming with NumPy. But wait! What is NumPy and why are we learning it? How is it related to machine learning? All these questions must be bothering you since you started reading this chapter. Let me answer them.\n",
    "\n",
    "NumPy is the fundamental library for the numerical computation. It is an integral part of the Scientific Python Ecosystem.I will recommend you learn NumPy first. NumPy is important because it is used to store the data. It has a basic yet very versatile data structure known as Ndarray. It means N Dimensional Array. Python\n",
    "has many array-like data structures (e.g., list). But Ndarray is the most versatile and the most preferred structure to store scientific and numerical data.\n",
    "\n",
    "Many libraries have their own data structures, and most of them use Ndarrays as their base. And Ndarrays are compatible with many data structures and routine just like the lists. But for now, let’s focus on Ndarrays.\n",
    "Let us create a simple Ndarray as follows:"
   ]
  },
  {
   "cell_type": "code",
   "execution_count": 1,
   "id": "1694db98",
   "metadata": {},
   "outputs": [],
   "source": [
    "import numpy as np\n",
    "lst1 = [1,2,3]"
   ]
  },
  {
   "cell_type": "code",
   "execution_count": 3,
   "id": "17a43bf8",
   "metadata": {},
   "outputs": [],
   "source": [
    "arr1 = np.array(lst1)"
   ]
  },
  {
   "cell_type": "code",
   "execution_count": 7,
   "id": "2cc88715",
   "metadata": {},
   "outputs": [
    {
     "name": "stdout",
     "output_type": "stream",
     "text": [
      "<class 'list'>\n",
      "<class 'numpy.ndarray'>\n"
     ]
    }
   ],
   "source": [
    "print(type(lst1))\n",
    "print(type(arr1))"
   ]
  },
  {
   "cell_type": "code",
   "execution_count": 8,
   "id": "3c9b90db",
   "metadata": {},
   "outputs": [],
   "source": [
    "# There is a list of data types supported by Ndarrays\n",
    "arr1 = np.array([1,2,3],dtype=np.uint8)"
   ]
  },
  {
   "cell_type": "markdown",
   "id": "8d5745f1",
   "metadata": {},
   "source": [
    "### 2. Multidimensional Ndarrays\n",
    "We can create multidimensional arrays as follows:"
   ]
  },
  {
   "cell_type": "code",
   "execution_count": 10,
   "id": "495e5bf6",
   "metadata": {},
   "outputs": [
    {
     "data": {
      "text/plain": [
       "array([[1, 2, 3],\n",
       "       [4, 5, 6]], dtype=int16)"
      ]
     },
     "execution_count": 10,
     "metadata": {},
     "output_type": "execute_result"
    }
   ],
   "source": [
    "arr2 = np.array([[1,2,3],[4,5,6]],np.int16)\n",
    "arr2"
   ]
  },
  {
   "cell_type": "code",
   "execution_count": 12,
   "id": "43447c8b",
   "metadata": {},
   "outputs": [
    {
     "data": {
      "text/plain": [
       "array([[[ 1,  2,  3],\n",
       "        [ 4,  5,  6]],\n",
       "\n",
       "       [[ 7,  8,  9],\n",
       "        [ 0,  0,  0]],\n",
       "\n",
       "       [[-1, -1, -1],\n",
       "        [ 1,  1,  1]]], dtype=int16)"
      ]
     },
     "execution_count": 12,
     "metadata": {},
     "output_type": "execute_result"
    }
   ],
   "source": [
    "arr3 = np.array([[[1,2,3],[4,5,6]],\n",
    "                 [[7,8,9],[0,0,0]],\n",
    "                 [[-1,-1,-1],[1,1,1]]],np.int16)\n",
    "arr3"
   ]
  },
  {
   "cell_type": "markdown",
   "id": "67f665e8",
   "metadata": {},
   "source": [
    "### 3. Indexing of Ndarrays\n",
    "Let's see how to access data elements"
   ]
  },
  {
   "cell_type": "code",
   "execution_count": 28,
   "id": "60bba517",
   "metadata": {},
   "outputs": [
    {
     "data": {
      "text/plain": [
       "array([1, 2, 3], dtype=uint8)"
      ]
     },
     "execution_count": 28,
     "metadata": {},
     "output_type": "execute_result"
    }
   ],
   "source": [
    "# One dimensional array\n",
    "arr4 = np.array([1,2,3],dtype=np.uint8)\n",
    "arr4"
   ]
  },
  {
   "cell_type": "markdown",
   "id": "7a07cb85",
   "metadata": {},
   "source": [
    "We can address its elements as follows:"
   ]
  },
  {
   "cell_type": "code",
   "execution_count": 18,
   "id": "027ed7a7",
   "metadata": {},
   "outputs": [
    {
     "name": "stdout",
     "output_type": "stream",
     "text": [
      "1\n",
      "2\n",
      "3\n"
     ]
    }
   ],
   "source": [
    "print(arr4[0])\n",
    "print(arr4[1])\n",
    "print(arr4[2])"
   ]
  },
  {
   "cell_type": "code",
   "execution_count": 22,
   "id": "5f4acf3d",
   "metadata": {},
   "outputs": [],
   "source": [
    "# Three dimensional array\n",
    "arr3 = np.array([\n",
    "                 [[1,2,3],[4,5,6]],\n",
    "                 [[7,8,9],[0,0,0]],\n",
    "                 [[-1,-1,-1],[1,1,1]]\n",
    "                ],np.int16)"
   ]
  },
  {
   "cell_type": "code",
   "execution_count": 23,
   "id": "0dc34ede",
   "metadata": {},
   "outputs": [
    {
     "name": "stdout",
     "output_type": "stream",
     "text": [
      "3\n"
     ]
    }
   ],
   "source": [
    "print(arr3.ndim)"
   ]
  },
  {
   "cell_type": "code",
   "execution_count": 26,
   "id": "b88afa27",
   "metadata": {},
   "outputs": [
    {
     "name": "stdout",
     "output_type": "stream",
     "text": [
      "6\n",
      "1\n"
     ]
    }
   ],
   "source": [
    "print(arr3[0,1,2])\n",
    "print(arr3[0,0,0])"
   ]
  },
  {
   "cell_type": "markdown",
   "id": "52e382ad",
   "metadata": {},
   "source": [
    "That's how we can access elements of Ndarrays"
   ]
  },
  {
   "cell_type": "markdown",
   "id": "823f888c",
   "metadata": {},
   "source": [
    "### 4. Ndarray Properties\n",
    "Let's use 3D matrix array we used earlier:"
   ]
  },
  {
   "cell_type": "code",
   "execution_count": 29,
   "id": "7929b1b5",
   "metadata": {},
   "outputs": [],
   "source": [
    "x2 = np.array([[[1,2,3],[4,5,6]],[[0,-1,-2],[-3,-4,-5]]],np.uint16)"
   ]
  },
  {
   "cell_type": "code",
   "execution_count": 30,
   "id": "27e68abb",
   "metadata": {},
   "outputs": [
    {
     "name": "stdout",
     "output_type": "stream",
     "text": [
      "3\n"
     ]
    }
   ],
   "source": [
    "# Number of dimensions\n",
    "print(x2.ndim)"
   ]
  },
  {
   "cell_type": "code",
   "execution_count": 31,
   "id": "d53738ca",
   "metadata": {},
   "outputs": [
    {
     "name": "stdout",
     "output_type": "stream",
     "text": [
      "(2, 2, 3)\n"
     ]
    }
   ],
   "source": [
    "# The shape of Ndarrays\n",
    "print(x2.shape)"
   ]
  },
  {
   "cell_type": "markdown",
   "id": "871a8512",
   "metadata": {},
   "source": [
    "First level has 2 elements [[1,2,3],[4,5,6]],[[0,-1,-2],[-3,-4,-5]]<br/>\n",
    "Second level has has 2 elements [1,2,3],[4,5,6]<br/>\n",
    "Third level has 3 elements [1,2,3]<br/>\n",
    "\n",
    "So, the shape of the x2 Ndarray is (2,2,3).\n"
   ]
  },
  {
   "cell_type": "code",
   "execution_count": 32,
   "id": "892149a3",
   "metadata": {},
   "outputs": [
    {
     "name": "stdout",
     "output_type": "stream",
     "text": [
      "uint16\n"
     ]
    }
   ],
   "source": [
    "# To identify the type of the members\n",
    "print(x2.dtype)"
   ]
  },
  {
   "cell_type": "code",
   "execution_count": 33,
   "id": "83df3186",
   "metadata": {},
   "outputs": [
    {
     "name": "stdout",
     "output_type": "stream",
     "text": [
      "12\n"
     ]
    }
   ],
   "source": [
    "# Number of elements\n",
    "print(x2.size)"
   ]
  },
  {
   "cell_type": "code",
   "execution_count": 34,
   "id": "74e9b14f",
   "metadata": {},
   "outputs": [
    {
     "name": "stdout",
     "output_type": "stream",
     "text": [
      "24\n"
     ]
    }
   ],
   "source": [
    "# Number of bytes required in the memory for the storage\n",
    "print(x2.nbytes)"
   ]
  },
  {
   "cell_type": "code",
   "execution_count": 35,
   "id": "f3ef0643",
   "metadata": {},
   "outputs": [
    {
     "name": "stdout",
     "output_type": "stream",
     "text": [
      "[[[    1     0]\n",
      "  [    4 65533]]\n",
      "\n",
      " [[    2 65535]\n",
      "  [    5 65532]]\n",
      "\n",
      " [[    3 65534]\n",
      "  [    6 65531]]]\n"
     ]
    }
   ],
   "source": [
    "# Transpose the Ndarrays\n",
    "print(x2.T)"
   ]
  },
  {
   "cell_type": "markdown",
   "id": "5bdf6358",
   "metadata": {},
   "source": [
    "### 5. NumPy Constants\n",
    "These are useful mathematical and scientific constants we can use in programs."
   ]
  },
  {
   "cell_type": "code",
   "execution_count": 39,
   "id": "18e60956",
   "metadata": {},
   "outputs": [
    {
     "name": "stdout",
     "output_type": "stream",
     "text": [
      "inf:  inf\n",
      "NAN:  nan\n",
      "NINF:  -inf\n",
      "NZERO:  -0.0\n",
      "PZERO:  0.0\n",
      "e:  2.718281828459045\n",
      "euler_gamma:  0.5772156649015329\n",
      "pi:  3.141592653589793\n"
     ]
    }
   ],
   "source": [
    "print(\"inf: \",np.inf)\n",
    "print(\"NAN: \",np.NAN)\n",
    "print(\"NINF: \",np.NINF)\n",
    "print(\"NZERO: \",np.NZERO)\n",
    "print(\"PZERO: \",np.PZERO)\n",
    "print(\"e: \",np.e)\n",
    "print(\"euler_gamma: \",np.euler_gamma)\n",
    "print(\"pi: \",np.pi)"
   ]
  },
  {
   "cell_type": "code",
   "execution_count": null,
   "id": "26275dd4",
   "metadata": {},
   "outputs": [],
   "source": []
  }
 ],
 "metadata": {
  "kernelspec": {
   "display_name": "Python 3 (ipykernel)",
   "language": "python",
   "name": "python3"
  },
  "language_info": {
   "codemirror_mode": {
    "name": "ipython",
    "version": 3
   },
   "file_extension": ".py",
   "mimetype": "text/x-python",
   "name": "python",
   "nbconvert_exporter": "python",
   "pygments_lexer": "ipython3",
   "version": "3.9.13"
  }
 },
 "nbformat": 4,
 "nbformat_minor": 5
}
